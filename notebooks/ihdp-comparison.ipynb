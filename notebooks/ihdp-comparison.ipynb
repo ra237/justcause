{
 "cells": [
  {
   "cell_type": "code",
   "execution_count": null,
   "id": "d6366a84",
   "metadata": {},
   "outputs": [],
   "source": [
    "import pandas as pd\n",
    "import os\n",
    "os.chdir(\"outputs\")"
   ]
  },
  {
   "cell_type": "markdown",
   "id": "46774462",
   "metadata": {},
   "source": [
    "# Scenarios\n",
    "This notebook contains the scenarios used for causal [method](#Methods) comparison. The Individual Treatment Effects and computed results (sorted by PEHE score mean) can be found in the following sections:\n",
    "* [Linear](#Linear)\n",
    "* [Sinusoidal](#Sinusoidal)\n",
    "* [Polynomial](#Polynomial)\n",
    "* [Mixed](#Mixed)\n",
    "* [Multi-Modal](#Multi-Modal)\n",
    "* [Exponential](#Exponential)  \n",
    "  \n",
    "## Treatment Assignments\n",
    "In addition to each of the given Individual Treatment Effects the following treatment assignments have been used in order to generate the IHDP replica:\n",
    "### rct\n",
    "$T_i\\ =\\ BERN(0,5) $\n",
    "### single_binary_confounder\n",
    "$T_i\\ =\\ BERN(X_{i,16}) $\n",
    "### multi_confounder\n",
    "$T_i\\ =\\ BERN(\\sigma(\\frac{X_{i,\\ 1}\\ +\\ X_{i,2}}{2})) $\n",
    "### single_continuous_confounder\n",
    "$T_i\\ =\\ BERN(\\sigma(X_{i,8}))\\ $  \n",
    "<hr style=\"border:1px solid gray\"> </hr>  \n",
    "\n",
    "# Methods\n",
    "<div style=\"text-align: right\"> <a href=\"#Scenarios\">Back to top</a> </div>  \n",
    "\n",
    "The methods used to compute the results are listed in an *ID:Method* mapping which is also used by *pandas* when printing the *DateFrame*.   \n",
    "\n",
    "| ID | Method |  \n",
    "|----|--------|  \n",
    "| **1** | S-Learner with Linear Regression |\n",
    "| **3** | T-Learner with Linear Regression |\n",
    "| **5** | S-Learner with Poly Learner 2nd degree |\n",
    "| **7** | S-Learner with Poly Learner 3rd degree |\n",
    "| **9** | T-Learner with Poly Learner 2nd degree |\n",
    "| **11** | T-Learner with Poly Learner 3rd degree |\n",
    "| **13** | Dragonnet (default configuration) |\n",
    "| **15** | Causal Forest (default configuration) |  \n",
    "\n",
    "You may wonder why even numbers ($ID-1 $) are skipped - They are the odd numbers equivalent, but tested on data used for training. E.g. ID **2** represents the *S-Learner with Linear Regression* on training data and so forth...\n",
    "## Filtering\n",
    "Here are some examples that are useful when filtering for interesting data:  \n",
    "\n",
    "```py\n",
    "pd.read_pickle(\"linear_rct\")\n",
    "```   \n",
    "No filtering; full DataFrame.  \n",
    "  \n",
    "```py\n",
    "pd.read_pickle(\"linear_rct\")[['method', 'train', 'pehe_score-mean', 'enormse-mean']]\n",
    "```  \n",
    "Filter for the given columns.  \n",
    "  \n",
    "```py\n",
    "df = pd.read_pickle(\"linear_rct\")\n",
    "df[df['train'] == False][['method', 'train', 'pehe_score-mean', 'enormse-mean']]\n",
    "```    \n",
    "Hide results based on training data and apply filter for given columns.  \n",
    "## Reproduction\n",
    "All results can be found in `notebooks/outputs` in serialized format.  \n",
    "The script `notebooks/run_all.py` has been used to compute the result and therefore can be used for reproduction. Be **warned** this process can take a lot of time. For reference:\n",
    "* **CPU**: AMD® Ryzen 7 5800x 8-core processor × 16 \n",
    "* **GPU**: AMD® Radeon rx 6800 xt\n",
    "* **OS**: Ubuntu 20.04.4 LTS\n",
    "* **Computation time**: >15 hours  \n",
    "\n",
    "Additionally *AMD ROCm* has been used for tensorflow GPU support."
   ]
  },
  {
   "cell_type": "markdown",
   "id": "690c910c",
   "metadata": {},
   "source": [
    "<hr style=\"border:2px solid black\"> </hr>  \n",
    "\n",
    "# Linear\n",
    "<div style=\"text-align: right\"> <a href=\"#Scenarios\">Back to top</a> </div>\n",
    "$\\tau_i\\ =\\ \\ \\sum^{25}_{j=0}\\ X_{i,j}\\ $  \n",
    "  \n",
    "Using the following treatment assignments:"
   ]
  },
  {
   "cell_type": "markdown",
   "id": "b98d49c0",
   "metadata": {},
   "source": [
    "### rct"
   ]
  },
  {
   "cell_type": "code",
   "execution_count": null,
   "id": "e2466a22",
   "metadata": {},
   "outputs": [],
   "source": [
    "pd.read_pickle(\"linear_rct\")"
   ]
  },
  {
   "cell_type": "markdown",
   "id": "e555e202",
   "metadata": {},
   "source": [
    "### single_binary_confounder"
   ]
  },
  {
   "cell_type": "code",
   "execution_count": null,
   "id": "10256f3e",
   "metadata": {},
   "outputs": [],
   "source": [
    "pd.read_pickle(\"linear_single_binary_confounder\")"
   ]
  },
  {
   "cell_type": "markdown",
   "id": "bcb61478",
   "metadata": {},
   "source": [
    "### multi_confounder"
   ]
  },
  {
   "cell_type": "code",
   "execution_count": null,
   "id": "dc52a66e",
   "metadata": {},
   "outputs": [],
   "source": [
    "pd.read_pickle(\"linear_multi_confounder\")"
   ]
  },
  {
   "cell_type": "markdown",
   "id": "e0e86580",
   "metadata": {},
   "source": [
    "### single_continuous_confounder"
   ]
  },
  {
   "cell_type": "code",
   "execution_count": null,
   "id": "9b328cb9",
   "metadata": {},
   "outputs": [],
   "source": [
    "pd.read_pickle(\"linear_single_continuous_confounder\")"
   ]
  },
  {
   "cell_type": "markdown",
   "id": "e1b6bb64",
   "metadata": {},
   "source": [
    "<hr style=\"border:2px solid black\"> </hr>  \n",
    "\n",
    "# Sinusoidal\n",
    "<div style=\"text-align: right\"> <a href=\"#Scenarios\">Back to top</a> </div>\n",
    "$\\tau_i\\ =sin(2\\ \\pi\\ X_{i,5}) $\n",
    "  \n",
    "Using the following treatment assignments:"
   ]
  },
  {
   "cell_type": "markdown",
   "id": "3f90c5b6",
   "metadata": {},
   "source": [
    "### rct"
   ]
  },
  {
   "cell_type": "code",
   "execution_count": null,
   "id": "fb431837",
   "metadata": {},
   "outputs": [],
   "source": [
    "pd.read_pickle(\"sinus_rct\")"
   ]
  },
  {
   "cell_type": "markdown",
   "id": "af382395",
   "metadata": {},
   "source": [
    "### single_binary_confounder"
   ]
  },
  {
   "cell_type": "code",
   "execution_count": null,
   "id": "891ddd75",
   "metadata": {},
   "outputs": [],
   "source": [
    "pd.read_pickle(\"sinus_single_binary_confounder\")"
   ]
  },
  {
   "cell_type": "markdown",
   "id": "384fa48e",
   "metadata": {},
   "source": [
    "### multi_confounder"
   ]
  },
  {
   "cell_type": "code",
   "execution_count": null,
   "id": "6ed32236",
   "metadata": {},
   "outputs": [],
   "source": [
    "pd.read_pickle(\"sinus_multi_confounder\")"
   ]
  },
  {
   "cell_type": "markdown",
   "id": "214847c6",
   "metadata": {},
   "source": [
    "### single_continuous_confounder"
   ]
  },
  {
   "cell_type": "code",
   "execution_count": null,
   "id": "f7dd7cef",
   "metadata": {},
   "outputs": [],
   "source": [
    "pd.read_pickle(\"sinus_single_continuous_confounder\")"
   ]
  },
  {
   "cell_type": "markdown",
   "id": "917ecce6",
   "metadata": {},
   "source": [
    "<hr style=\"border:2px solid black\"> </hr>  \n",
    "\n",
    "# Polynomial\n",
    "<div style=\"text-align: right\"> <a href=\"#Scenarios\">Back to top</a> </div>\n",
    "$\\tau_i\\ =\\ 2\\ X_{i,\\ 0}^3\\ +\\ 0,69\\ X_{i,\\ 1}^2\\ +\\ 1,337\\ X_{i,\\ 2}\\ +\\ X_{i,\\ 3}\\ +\\ X_{i,\\ 4}^2\\ +\\ X_{i,\\ 5}^3\\ +\\ 0,5\\ X_{i,\\ 13}\\ +\\ 1,5\\ X_{i,\\ 17}\\ \\ \\ \\ $\n",
    "  \n",
    "Using the following treatment assignments:"
   ]
  },
  {
   "cell_type": "markdown",
   "id": "47239d54",
   "metadata": {},
   "source": [
    "### rct"
   ]
  },
  {
   "cell_type": "code",
   "execution_count": null,
   "id": "beb953c5",
   "metadata": {},
   "outputs": [],
   "source": [
    "pd.read_pickle(\"poly_rct\")"
   ]
  },
  {
   "cell_type": "markdown",
   "id": "157f4653",
   "metadata": {},
   "source": [
    "### single_binary_confounder"
   ]
  },
  {
   "cell_type": "code",
   "execution_count": null,
   "id": "e074bbf8",
   "metadata": {},
   "outputs": [],
   "source": [
    "pd.read_pickle(\"poly_single_binary_confounder\")"
   ]
  },
  {
   "cell_type": "markdown",
   "id": "36ac7bf1",
   "metadata": {},
   "source": [
    "### multi_confounder"
   ]
  },
  {
   "cell_type": "code",
   "execution_count": null,
   "id": "f021998d",
   "metadata": {},
   "outputs": [],
   "source": [
    "pd.read_pickle(\"poly_multi_confounder\")"
   ]
  },
  {
   "cell_type": "markdown",
   "id": "a48621d1",
   "metadata": {},
   "source": [
    "### single_continuous_confounder"
   ]
  },
  {
   "cell_type": "code",
   "execution_count": null,
   "id": "81dab5f5",
   "metadata": {},
   "outputs": [],
   "source": [
    "pd.read_pickle(\"poly_single_continuous_confounder\")"
   ]
  },
  {
   "cell_type": "markdown",
   "id": "e4759131",
   "metadata": {},
   "source": [
    "<hr style=\"border:2px solid black\"> </hr>  \n",
    "\n",
    "# Mixed\n",
    "<div style=\"text-align: right\"> <a href=\"#Scenarios\">Back to top</a> </div>\n",
    "$\\tau_i\\ =\\ e^{2X_{i,3}}\\ \\ast\\ ln(X_{i,\\ 13})\\ +\\ (\\frac{1}{|X_{i,4}|\\ +\\ 0,1})^{sin(X_i,5)} $\n",
    "  \n",
    "Using the following treatment assignments:"
   ]
  },
  {
   "cell_type": "markdown",
   "id": "fdc32f4f",
   "metadata": {},
   "source": [
    "### rct"
   ]
  },
  {
   "cell_type": "code",
   "execution_count": null,
   "id": "dd63c2f2",
   "metadata": {},
   "outputs": [],
   "source": [
    "pd.read_pickle(\"mixed_rct\")"
   ]
  },
  {
   "cell_type": "markdown",
   "id": "8ddbda3d",
   "metadata": {},
   "source": [
    "### single_binary_confounder"
   ]
  },
  {
   "cell_type": "code",
   "execution_count": null,
   "id": "821a9405",
   "metadata": {},
   "outputs": [],
   "source": [
    "pd.read_pickle(\"mixed_single_binary_confounder\")"
   ]
  },
  {
   "cell_type": "markdown",
   "id": "48287075",
   "metadata": {},
   "source": [
    "### multi_confounder"
   ]
  },
  {
   "cell_type": "code",
   "execution_count": null,
   "id": "9e1d96a0",
   "metadata": {},
   "outputs": [],
   "source": [
    "pd.read_pickle(\"mixed_multi_confounder\")"
   ]
  },
  {
   "cell_type": "markdown",
   "id": "2e563030",
   "metadata": {},
   "source": [
    "### single_continuous_confounder"
   ]
  },
  {
   "cell_type": "code",
   "execution_count": null,
   "id": "93ffa315",
   "metadata": {},
   "outputs": [],
   "source": [
    "pd.read_pickle(\"mixed_single_continuous_confounder\")"
   ]
  },
  {
   "cell_type": "markdown",
   "id": "95fbec41",
   "metadata": {},
   "source": [
    "<hr style=\"border:2px solid black\"> </hr>  \n",
    "\n",
    "# Multi-Modal\n",
    "<div style=\"text-align: right\"> <a href=\"#Scenarios\">Back to top</a> </div>  \n",
    "$\\gamma_i=II(\\sigma(X_{i,8})>\\frac{1}{2}) $  \n",
    "\n",
    "$\\tau_i\\ \\sim \\mathcal{N}\\ (3\\gamma_{i}\\ +\\ 1\\ -\\ \\gamma_{i}),\\ 0,1)\\ $\n",
    "  \n",
    "Using the following treatment assignments:"
   ]
  },
  {
   "cell_type": "markdown",
   "id": "4dc8ec51",
   "metadata": {},
   "source": [
    "### rct"
   ]
  },
  {
   "cell_type": "code",
   "execution_count": null,
   "id": "00efa906",
   "metadata": {},
   "outputs": [],
   "source": [
    "pd.read_pickle(\"multi-modal_rct\")"
   ]
  },
  {
   "cell_type": "markdown",
   "id": "8aed68b2",
   "metadata": {},
   "source": [
    "### single_binary_confounder"
   ]
  },
  {
   "cell_type": "code",
   "execution_count": null,
   "id": "9db1182c",
   "metadata": {},
   "outputs": [],
   "source": [
    "pd.read_pickle(\"multi-modal_binary_confounder\")"
   ]
  },
  {
   "cell_type": "markdown",
   "id": "6070a1ec",
   "metadata": {},
   "source": [
    "### multi_confounder"
   ]
  },
  {
   "cell_type": "code",
   "execution_count": null,
   "id": "74eae8fe",
   "metadata": {},
   "outputs": [],
   "source": [
    "pd.read_pickle(\"multi-modal_confounder\")"
   ]
  },
  {
   "cell_type": "markdown",
   "id": "4a1ba466",
   "metadata": {},
   "source": [
    "### single_continuous_confounder"
   ]
  },
  {
   "cell_type": "code",
   "execution_count": null,
   "id": "0bb1314a",
   "metadata": {},
   "outputs": [],
   "source": [
    "pd.read_pickle(\"multi-modal_continuous_confounder\")"
   ]
  },
  {
   "cell_type": "markdown",
   "id": "fd96bf31",
   "metadata": {},
   "source": [
    "<hr style=\"border:2px solid black\"> </hr>  \n",
    "\n",
    "# Exponential\n",
    "<div style=\"text-align: right\"> <a href=\"#Scenarios\">Back to top</a> </div>\n",
    "$\\tau_i\\ =\\ e^{1\\ +\\ \\sigma(X_{i,8})} $\n",
    "  \n",
    "Using the following treatment assignments:"
   ]
  },
  {
   "cell_type": "markdown",
   "id": "7cf9f55e",
   "metadata": {},
   "source": [
    "### rct"
   ]
  },
  {
   "cell_type": "code",
   "execution_count": null,
   "id": "73d4e5e9",
   "metadata": {},
   "outputs": [],
   "source": [
    "pd.read_pickle(\"expo_rct\")"
   ]
  },
  {
   "cell_type": "markdown",
   "id": "cc35c320",
   "metadata": {},
   "source": [
    "### single_binary_confounder"
   ]
  },
  {
   "cell_type": "code",
   "execution_count": null,
   "id": "bb62d037",
   "metadata": {},
   "outputs": [],
   "source": [
    "pd.read_pickle(\"expo_single_binary_confounder\")"
   ]
  },
  {
   "cell_type": "markdown",
   "id": "dc3bca26",
   "metadata": {},
   "source": [
    "### multi_confounder"
   ]
  },
  {
   "cell_type": "code",
   "execution_count": null,
   "id": "0598ffe7",
   "metadata": {},
   "outputs": [],
   "source": [
    "pd.read_pickle(\"expo_multi_confounder\")"
   ]
  },
  {
   "cell_type": "markdown",
   "id": "a5ffa9a8",
   "metadata": {},
   "source": [
    "### single_continuous_confounder"
   ]
  },
  {
   "cell_type": "code",
   "execution_count": null,
   "id": "57ed4f79",
   "metadata": {},
   "outputs": [],
   "source": [
    "pd.read_pickle(\"expo_single_continuous_confounder\")"
   ]
  }
 ],
 "metadata": {
  "kernelspec": {
   "display_name": "Python 3 (ipykernel)",
   "language": "python",
   "name": "python3"
  },
  "language_info": {
   "codemirror_mode": {
    "name": "ipython",
    "version": 3
   },
   "file_extension": ".py",
   "mimetype": "text/x-python",
   "name": "python",
   "nbconvert_exporter": "python",
   "pygments_lexer": "ipython3",
   "version": "3.9.7"
  }
 },
 "nbformat": 4,
 "nbformat_minor": 5
}
