{
 "cells": [
  {
   "cell_type": "code",
   "execution_count": null,
   "id": "0ac87f82",
   "metadata": {},
   "outputs": [],
   "source": [
    "import pandas as pd\n",
    "import os\n",
    "os.chdir(\"outputs\")"
   ]
  },
  {
   "cell_type": "markdown",
   "id": "6cab83af",
   "metadata": {},
   "source": [
    "# Scenarios\n",
    "This notebook contains the scenarios used for causal [method](#Methods) comparison. The Individual Treatment Effects and computed results (sorted by PEHE score mean) can be found in the following sections:\n",
    "* [Linear](#Linear)\n",
    "* [Sinusoidal](#Sinusoidal)\n",
    "* [Polynomial](#Polynomial)\n",
    "* [Mixed](#Mixed)\n",
    "* [Multi-Modal](#Multi-Modal)\n",
    "* [Exponential](#Exponential)  \n",
    "  \n",
    "## Treatment Assignments\n",
    "In addition to each of the given Individual Treatment Effects the following treatment assignments have been used in order to generate the IHDP replica:\n",
    "### rct\n",
    "$T_i\\ =\\ BERN(0,5) $\n",
    "### single_binary_confounder\n",
    "$T_i\\ =\\ BERN(X_{i,16}) $\n",
    "### multi_confounder\n",
    "$T_i\\ =\\ BERN(\\sigma(\\frac{X_{i,\\ 1}\\ +\\ X_{i,2}}{2})) $\n",
    "### single_continuous_confounder\n",
    "$T_i\\ =\\ BERN(\\sigma(X_{i,8}))\\ $  \n",
    "<hr style=\"border:1px solid gray\"> </hr>  \n",
    "\n",
    "# Methods\n",
    "<div style=\"text-align: right\"> <a href=\"#Scenarios\">Back to top</a> </div>  \n",
    "\n",
    "The methods used to compute the results are listed in an *ID:Method* mapping which is also used by *pandas* when printing the *DateFrame*.   \n",
    "\n",
    "| ID | Method |  \n",
    "|----|--------|  \n",
    "| **1** | S-Learner with Linear Regression |\n",
    "| **3** | T-Learner with Linear Regression |\n",
    "| **5** | S-Learner with Poly Learner 2nd degree |\n",
    "| **7** | S-Learner with Poly Learner 3rd degree |\n",
    "| **9** | T-Learner with Poly Learner 2nd degree |\n",
    "| **11** | T-Learner with Poly Learner 3rd degree |\n",
    "| **13** | Dragonnet (default configuration) |\n",
    "| **15** | Causal Forest (default configuration) |  \n",
    "\n",
    "You may wonder why even numbers ($ID-1 $) are skipped - They are the odd numbers equivalent, but tested on data used for training. E.g. ID **2** represents the *S-Learner with Linear Regression* on training data and so forth...\n",
    "## Filtering\n",
    "Here are some examples that are useful when filtering for interesting data:  \n",
    "\n",
    "```py\n",
    "pd.read_pickle(\"linear_rct\")\n",
    "```   \n",
    "No filtering; full DataFrame.  \n",
    "  \n",
    "```py\n",
    "pd.read_pickle(\"linear_rct\")[['method', 'train', 'pehe_score-mean', 'enormse-mean']]\n",
    "```  \n",
    "Filter for the given columns.  \n",
    "  \n",
    "```py\n",
    "df = pd.read_pickle(\"linear_rct\")\n",
    "df[df['train'] == False][['method', 'train', 'pehe_score-mean', 'enormse-mean']]\n",
    "```    \n",
    "Hide results based on training data and apply filter for given columns.  \n",
    "## Reproduction\n",
    "All results can be found in `notebooks/outputs` in serialized format.  \n",
    "The script `notebooks/run_all.py` has been used to compute the result and therefore can be used for reproduction. Be **warned** this process can take a lot of time. For reference:\n",
    "* **CPU**: AMD® Ryzen 7 5800x 8-core processor × 16 \n",
    "* **GPU**: AMD® Radeon rx 6800 xt\n",
    "* **OS**: Ubuntu 20.04.4 LTS\n",
    "* **Computation time**: >15 hours  \n",
    "\n",
    "Additionally *AMD ROCm* has been used for tensorflow GPU support."
   ]
  },
  {
   "cell_type": "markdown",
   "id": "946fb3b0",
   "metadata": {},
   "source": [
    "<hr style=\"border:2px solid black\"> </hr>  \n",
    "\n",
    "# Linear\n",
    "<div style=\"text-align: right\"> <a href=\"#Scenarios\">Back to top</a> </div>\n",
    "$\\tau_i\\ =\\ \\ \\sum^{25}_{j=0}\\ X_{i,j}\\ $  \n",
    "  \n",
    "Using the following treatment assignments:"
   ]
  },
  {
   "cell_type": "markdown",
   "id": "8139cd87",
   "metadata": {},
   "source": [
    "### rct"
   ]
  },
  {
   "cell_type": "code",
   "execution_count": null,
   "id": "b66036c9",
   "metadata": {},
   "outputs": [],
   "source": [
    "pd.read_pickle(\"linear_rct\")"
   ]
  },
  {
   "cell_type": "markdown",
   "id": "db538efe",
   "metadata": {},
   "source": [
    "### single_binary_confounder"
   ]
  },
  {
   "cell_type": "code",
   "execution_count": null,
   "id": "329b5127",
   "metadata": {},
   "outputs": [],
   "source": [
    "pd.read_pickle(\"linear_single_binary_confounder\")"
   ]
  },
  {
   "cell_type": "markdown",
   "id": "8a32c8d9",
   "metadata": {},
   "source": [
    "### multi_confounder"
   ]
  },
  {
   "cell_type": "code",
   "execution_count": null,
   "id": "6233c3e0",
   "metadata": {},
   "outputs": [],
   "source": [
    "pd.read_pickle(\"linear_multi_confounder\")"
   ]
  },
  {
   "cell_type": "markdown",
   "id": "75b9b27e",
   "metadata": {},
   "source": [
    "### single_continuous_confounder"
   ]
  },
  {
   "cell_type": "code",
   "execution_count": null,
   "id": "b98dce0a",
   "metadata": {},
   "outputs": [],
   "source": [
    "pd.read_pickle(\"linear_single_continuous_confounder\")"
   ]
  },
  {
   "cell_type": "markdown",
   "id": "3d0919ad",
   "metadata": {},
   "source": [
    "<hr style=\"border:2px solid black\"> </hr>  \n",
    "\n",
    "# Sinusoidal\n",
    "<div style=\"text-align: right\"> <a href=\"#Scenarios\">Back to top</a> </div>\n",
    "$\\tau_i\\ =sin(2\\ \\pi\\ X_{i,5}) $\n",
    "  \n",
    "Using the following treatment assignments:"
   ]
  },
  {
   "cell_type": "markdown",
   "id": "6b248469",
   "metadata": {},
   "source": [
    "### rct"
   ]
  },
  {
   "cell_type": "code",
   "execution_count": null,
   "id": "f82f1928",
   "metadata": {},
   "outputs": [],
   "source": [
    "pd.read_pickle(\"sinus_rct\")"
   ]
  },
  {
   "cell_type": "markdown",
   "id": "8a8574b8",
   "metadata": {},
   "source": [
    "### single_binary_confounder"
   ]
  },
  {
   "cell_type": "code",
   "execution_count": null,
   "id": "12bd464f",
   "metadata": {},
   "outputs": [],
   "source": [
    "pd.read_pickle(\"sinus_single_binary_confounder\")"
   ]
  },
  {
   "cell_type": "markdown",
   "id": "ef1f8078",
   "metadata": {},
   "source": [
    "### multi_confounder"
   ]
  },
  {
   "cell_type": "code",
   "execution_count": null,
   "id": "15dfc7f3",
   "metadata": {},
   "outputs": [],
   "source": [
    "pd.read_pickle(\"sinus_multi_confounder\")"
   ]
  },
  {
   "cell_type": "markdown",
   "id": "5ddddf35",
   "metadata": {},
   "source": [
    "### single_continuous_confounder"
   ]
  },
  {
   "cell_type": "code",
   "execution_count": null,
   "id": "a92020c8",
   "metadata": {},
   "outputs": [],
   "source": [
    "pd.read_pickle(\"sinus_single_continuous_confounder\")"
   ]
  },
  {
   "cell_type": "markdown",
   "id": "73ae0302",
   "metadata": {},
   "source": [
    "<hr style=\"border:2px solid black\"> </hr>  \n",
    "\n",
    "# Polynomial\n",
    "<div style=\"text-align: right\"> <a href=\"#Scenarios\">Back to top</a> </div>\n",
    "$\\tau_i\\ =\\ 2\\ X_{i,\\ 0}^3\\ +\\ 0,69\\ X_{i,\\ 1}^2\\ +\\ 1,337\\ X_{i,\\ 2}\\ +\\ X_{i,\\ 3}\\ +\\ X_{i,\\ 4}^2\\ +\\ X_{i,\\ 5}^3\\ +\\ 0,5\\ X_{i,\\ 13}\\ +\\ 1,5\\ X_{i,\\ 17}\\ \\ \\ \\ $\n",
    "  \n",
    "Using the following treatment assignments:"
   ]
  },
  {
   "cell_type": "markdown",
   "id": "15c97fda",
   "metadata": {},
   "source": [
    "### rct"
   ]
  },
  {
   "cell_type": "code",
   "execution_count": null,
   "id": "180f5571",
   "metadata": {},
   "outputs": [],
   "source": [
    "pd.read_pickle(\"poly_rct\")"
   ]
  },
  {
   "cell_type": "markdown",
   "id": "69de5303",
   "metadata": {},
   "source": [
    "### single_binary_confounder"
   ]
  },
  {
   "cell_type": "code",
   "execution_count": null,
   "id": "e7dc6618",
   "metadata": {},
   "outputs": [],
   "source": [
    "pd.read_pickle(\"poly_single_binary_confounder\")"
   ]
  },
  {
   "cell_type": "markdown",
   "id": "bee6e1ce",
   "metadata": {},
   "source": [
    "### multi_confounder"
   ]
  },
  {
   "cell_type": "code",
   "execution_count": null,
   "id": "183d8a31",
   "metadata": {},
   "outputs": [],
   "source": [
    "pd.read_pickle(\"poly_multi_confounder\")"
   ]
  },
  {
   "cell_type": "markdown",
   "id": "05a8744c",
   "metadata": {},
   "source": [
    "### single_continuous_confounder"
   ]
  },
  {
   "cell_type": "code",
   "execution_count": null,
   "id": "0401739f",
   "metadata": {},
   "outputs": [],
   "source": [
    "pd.read_pickle(\"poly_single_continuous_confounder\")"
   ]
  },
  {
   "cell_type": "markdown",
   "id": "8a28d5cf",
   "metadata": {},
   "source": [
    "<hr style=\"border:2px solid black\"> </hr>  \n",
    "\n",
    "# Mixed\n",
    "<div style=\"text-align: right\"> <a href=\"#Scenarios\">Back to top</a> </div>\n",
    "$\\tau_i\\ =\\ e^{2X_{i,3}}\\ \\ast\\ ln(X_{i,\\ 13})\\ +\\ (\\frac{1}{|X_{i,4}|\\ +\\ 0,1})^{sin(X_i,5)} $\n",
    "  \n",
    "Using the following treatment assignments:"
   ]
  },
  {
   "cell_type": "markdown",
   "id": "d9b9d534",
   "metadata": {},
   "source": [
    "### rct"
   ]
  },
  {
   "cell_type": "code",
   "execution_count": null,
   "id": "78628e0e",
   "metadata": {},
   "outputs": [],
   "source": [
    "pd.read_pickle(\"mixed_rct\")"
   ]
  },
  {
   "cell_type": "markdown",
   "id": "93e26fab",
   "metadata": {},
   "source": [
    "### single_binary_confounder"
   ]
  },
  {
   "cell_type": "code",
   "execution_count": null,
   "id": "05cb9244",
   "metadata": {},
   "outputs": [],
   "source": [
    "pd.read_pickle(\"mixed_single_binary_confounder\")"
   ]
  },
  {
   "cell_type": "markdown",
   "id": "bd923af0",
   "metadata": {},
   "source": [
    "### multi_confounder"
   ]
  },
  {
   "cell_type": "code",
   "execution_count": null,
   "id": "ad8374a3",
   "metadata": {},
   "outputs": [],
   "source": [
    "pd.read_pickle(\"mixed_multi_confounder\")"
   ]
  },
  {
   "cell_type": "markdown",
   "id": "404f0afe",
   "metadata": {},
   "source": [
    "### single_continuous_confounder"
   ]
  },
  {
   "cell_type": "code",
   "execution_count": null,
   "id": "05b7ccff",
   "metadata": {},
   "outputs": [],
   "source": [
    "pd.read_pickle(\"mixed_single_continuous_confounder\")"
   ]
  },
  {
   "cell_type": "markdown",
   "id": "75eef76f",
   "metadata": {},
   "source": [
    "<hr style=\"border:2px solid black\"> </hr>  \n",
    "\n",
    "# Multi-Modal\n",
    "<div style=\"text-align: right\"> <a href=\"#Scenarios\">Back to top</a> </div>  \n",
    "$\\gamma_i=II(\\sigma(X_{i,8})>\\frac{1}{2}) $  \n",
    "\n",
    "$\\tau_i\\ \\sim \\mathcal{N}\\ (3\\gamma_{i}\\ +\\ 1\\ -\\ \\gamma_{i}),\\ 0,1)\\ $\n",
    "  \n",
    "Using the following treatment assignments:"
   ]
  },
  {
   "cell_type": "markdown",
   "id": "98ef46e3",
   "metadata": {},
   "source": [
    "### rct"
   ]
  },
  {
   "cell_type": "code",
   "execution_count": null,
   "id": "85ea11fb",
   "metadata": {},
   "outputs": [],
   "source": [
    "pd.read_pickle(\"multi-modal_rct\")"
   ]
  },
  {
   "cell_type": "markdown",
   "id": "eba948d9",
   "metadata": {},
   "source": [
    "### single_binary_confounder"
   ]
  },
  {
   "cell_type": "code",
   "execution_count": null,
   "id": "8e86efd8",
   "metadata": {},
   "outputs": [],
   "source": [
    "pd.read_pickle(\"multi-modal_single_binary_confounder\")"
   ]
  },
  {
   "cell_type": "markdown",
   "id": "2e62839e",
   "metadata": {},
   "source": [
    "### multi_confounder"
   ]
  },
  {
   "cell_type": "code",
   "execution_count": null,
   "id": "99d3fb0b",
   "metadata": {},
   "outputs": [],
   "source": [
    "pd.read_pickle(\"multi-modal_multi_confounder\")"
   ]
  },
  {
   "cell_type": "markdown",
   "id": "9f1d0471",
   "metadata": {},
   "source": [
    "### single_continuous_confounder"
   ]
  },
  {
   "cell_type": "code",
   "execution_count": null,
   "id": "dc9727fc",
   "metadata": {},
   "outputs": [],
   "source": [
    "pd.read_pickle(\"multi-modal_single_continuous_confounder\")"
   ]
  },
  {
   "cell_type": "markdown",
   "id": "068d9146",
   "metadata": {},
   "source": [
    "<hr style=\"border:2px solid black\"> </hr>  \n",
    "\n",
    "# Exponential\n",
    "<div style=\"text-align: right\"> <a href=\"#Scenarios\">Back to top</a> </div>\n",
    "$\\tau_i\\ =\\ e^{1\\ +\\ \\sigma(X_{i,8})} $\n",
    "  \n",
    "Using the following treatment assignments:"
   ]
  },
  {
   "cell_type": "markdown",
   "id": "33239aff",
   "metadata": {},
   "source": [
    "### rct"
   ]
  },
  {
   "cell_type": "code",
   "execution_count": null,
   "id": "a97213b5",
   "metadata": {},
   "outputs": [],
   "source": [
    "pd.read_pickle(\"expo_rct\")"
   ]
  },
  {
   "cell_type": "markdown",
   "id": "061d6432",
   "metadata": {},
   "source": [
    "### single_binary_confounder"
   ]
  },
  {
   "cell_type": "code",
   "execution_count": null,
   "id": "a1e4a816",
   "metadata": {},
   "outputs": [],
   "source": [
    "pd.read_pickle(\"expo_single_binary_confounder\")"
   ]
  },
  {
   "cell_type": "markdown",
   "id": "700a23d2",
   "metadata": {},
   "source": [
    "### multi_confounder"
   ]
  },
  {
   "cell_type": "code",
   "execution_count": null,
   "id": "3ea6b3cb",
   "metadata": {},
   "outputs": [],
   "source": [
    "pd.read_pickle(\"expo_multi_confounder\")"
   ]
  },
  {
   "cell_type": "markdown",
   "id": "45977bcf",
   "metadata": {},
   "source": [
    "### single_continuous_confounder"
   ]
  },
  {
   "cell_type": "code",
   "execution_count": null,
   "id": "4aef2112",
   "metadata": {},
   "outputs": [],
   "source": [
    "pd.read_pickle(\"expo_single_continuous_confounder\")"
   ]
  },
  {
   "cell_type": "code",
   "execution_count": null,
   "id": "5c839c42",
   "metadata": {},
   "outputs": [],
   "source": []
  }
 ],
 "metadata": {
  "kernelspec": {
   "display_name": "Python 3 (ipykernel)",
   "language": "python",
   "name": "python3"
  },
  "language_info": {
   "codemirror_mode": {
    "name": "ipython",
    "version": 3
   },
   "file_extension": ".py",
   "mimetype": "text/x-python",
   "name": "python",
   "nbconvert_exporter": "python",
   "pygments_lexer": "ipython3",
   "version": "3.9.7"
  }
 },
 "nbformat": 4,
 "nbformat_minor": 5
}
